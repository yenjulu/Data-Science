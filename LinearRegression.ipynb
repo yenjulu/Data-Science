{
 "cells": [
  {
   "cell_type": "markdown",
   "id": "baa162ba",
   "metadata": {},
   "source": []
  },
  {
   "cell_type": "markdown",
   "id": "52bd8dc6",
   "metadata": {},
   "source": [
    "# Linear Regression in classification case\n",
    "### 150 samples, 3 species from openML iris dataset"
   ]
  },
  {
   "cell_type": "code",
   "execution_count": 36,
   "id": "7603068f",
   "metadata": {},
   "outputs": [
    {
     "name": "stdout",
     "output_type": "stream",
     "text": [
      "   sepallength  sepalwidth  petallength  petalwidth        class\n",
      "0          5.1         3.5          1.4         0.2  Iris-setosa\n",
      "1          4.9         3.0          1.4         0.2  Iris-setosa\n",
      "2          4.7         3.2          1.3         0.2  Iris-setosa\n",
      "3          4.6         3.1          1.5         0.2  Iris-setosa\n",
      "4          5.0         3.6          1.4         0.2  Iris-setosa\n",
      "150\n",
      "3\n",
      "['Iris-setosa', 'Iris-versicolor', 'Iris-virginica']\n",
      "Categories (3, object): ['Iris-setosa', 'Iris-versicolor', 'Iris-virginica']\n",
      "0    0\n",
      "1    0\n",
      "2    0\n",
      "3    0\n",
      "4    0\n",
      "Name: class, dtype: int32\n",
      "[0 1 2]\n",
      "[0 1 2]\n",
      "Accuracy: 1.0\n",
      "Confusion Matrix:\n",
      " [[19  0  0]\n",
      " [ 0 13  0]\n",
      " [ 0  0 13]]\n",
      "Classification Report:\n",
      "               precision    recall  f1-score   support\n",
      "\n",
      "           0       1.00      1.00      1.00        19\n",
      "           1       1.00      1.00      1.00        13\n",
      "           2       1.00      1.00      1.00        13\n",
      "\n",
      "    accuracy                           1.00        45\n",
      "   macro avg       1.00      1.00      1.00        45\n",
      "weighted avg       1.00      1.00      1.00        45\n",
      "\n"
     ]
    }
   ],
   "source": [
    "import openml\n",
    "import numpy as np\n",
    "import pandas as pd\n",
    "from sklearn.linear_model import LinearRegression\n",
    "from sklearn.model_selection import train_test_split\n",
    "from sklearn.preprocessing import LabelEncoder\n",
    "from sklearn.metrics import accuracy_score, confusion_matrix, classification_report\n",
    "\n",
    "# Step 1: Load dataset from OpenML\n",
    "dataset = openml.datasets.get_dataset(41426)\n",
    "df, *_ = dataset.get_data()\n",
    "\n",
    "# Check structure\n",
    "print(df.head())\n",
    "print(df.shape[0])\n",
    "print(df['class'].nunique())         # Number of unique classes\n",
    "print(df['class'].unique())          # List of class names\n",
    "\n",
    "# Convert class to binary (positive = 1, negative = 0)\n",
    "df['class'] = LabelEncoder().fit_transform(df['class'])\n",
    "print(df['class'][:5])        # e.g., [1 0 1 0 1]\n",
    "\n",
    "X = df.drop(columns=['class'])     # Features\n",
    "y = LabelEncoder().fit_transform(df['class'])  # Convert 'tested_positive'/'tested_negative' to 1/0\n",
    "\n",
    "X_train, X_test, y_train, y_test = train_test_split(X, y, test_size=0.3, random_state=42)\n",
    "\n",
    "# Step 4: Train linear regression model\n",
    "model = LinearRegression()\n",
    "model.fit(X_train, y_train)\n",
    "\n",
    "# Step 5: Predict and evaluate\n",
    "y_pred = model.predict(X_test)\n",
    "y_pred = np.round(y_pred).astype(int)\n",
    "print(np.unique(y_pred))\n",
    "print(np.unique(y_test))\n",
    "\n",
    "print(\"Accuracy:\", accuracy_score(y_test, y_pred))\n",
    "print(\"Confusion Matrix:\\n\", confusion_matrix(y_test, y_pred))\n",
    "print(\"Classification Report:\\n\", classification_report(y_test, y_pred))\n",
    "\n",
    "\n",
    "\n"
   ]
  }
 ],
 "metadata": {
  "kernelspec": {
   "display_name": "datascienv",
   "language": "python",
   "name": "python3"
  },
  "language_info": {
   "codemirror_mode": {
    "name": "ipython",
    "version": 3
   },
   "file_extension": ".py",
   "mimetype": "text/x-python",
   "name": "python",
   "nbconvert_exporter": "python",
   "pygments_lexer": "ipython3",
   "version": "3.12.11"
  }
 },
 "nbformat": 4,
 "nbformat_minor": 5
}
