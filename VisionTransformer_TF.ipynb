{
 "cells": [
  {
   "cell_type": "code",
   "execution_count": null,
   "id": "34ad4e60",
   "metadata": {},
   "outputs": [],
   "source": [
    "import tensorflow as tf\n",
    "import tensorflow_datasets as tfds\n",
    "from transformers import ViTFeatureExtractor, TFAutoModelForImageClassification\n",
    "import numpy as np\n",
    "\n",
    "# Load CIFAR-10 and resize to 224x224\n",
    "def preprocess(example):\n",
    "    image = tf.image.resize(example['image'], [224, 224])\n",
    "    image = tf.cast(image, tf.float32) / 255.0  # Normalize to [0,1]\n",
    "    return image, example['label']\n",
    "\n",
    "train_ds = tfds.load(\"cifar10\", split=\"train\", as_supervised=False)\n",
    "test_ds = tfds.load(\"cifar10\", split=\"test\", as_supervised=False)\n",
    "\n",
    "train_ds = train_ds.map(preprocess).batch(32).prefetch(tf.data.AUTOTUNE)\n",
    "test_ds = test_ds.map(preprocess).batch(32).prefetch(tf.data.AUTOTUNE)\n",
    "\n",
    "# Load ViT model and feature extractor\n",
    "feature_extractor = ViTFeatureExtractor.from_pretrained(\"google/vit-base-patch16-224\")\n",
    "model = TFAutoModelForImageClassification.from_pretrained(\n",
    "    \"google/vit-base-patch16-224\", num_labels=10\n",
    ")\n",
    "\n",
    "# Compile model\n",
    "model.compile(\n",
    "    optimizer=tf.keras.optimizers.Adam(learning_rate=1e-4),\n",
    "    loss=tf.keras.losses.SparseCategoricalCrossentropy(from_logits=True),\n",
    "    metrics=[\"accuracy\"]\n",
    ")\n",
    "\n",
    "# Train\n",
    "model.fit(train_ds, epochs=3)\n",
    "\n",
    "# Evaluate\n",
    "test_loss, test_acc = model.evaluate(test_ds)\n",
    "print(f\"Test Accuracy: {test_acc * 100:.2f}%\")\n"
   ]
  }
 ],
 "metadata": {
  "kernelspec": {
   "display_name": "datascienv",
   "language": "python",
   "name": "python3"
  },
  "language_info": {
   "name": "python",
   "version": "3.12.11"
  }
 },
 "nbformat": 4,
 "nbformat_minor": 5
}
