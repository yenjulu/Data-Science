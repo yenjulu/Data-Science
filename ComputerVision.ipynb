{
 "cells": [
  {
   "cell_type": "markdown",
   "id": "8ae7a59a",
   "metadata": {},
   "source": [
    "## Computer vision\n",
    "Sobel filter, Canny edge detector, ‘Hysteresis’ Thresholding\n",
    "Harris corners, Feature points(panorama,  3D reconstruction, Motion tracking) \n",
    "Detection, Description, Matching\n",
    "\n",
    "fundamental matrix\n"
   ]
  }
 ],
 "metadata": {
  "language_info": {
   "name": "python"
  }
 },
 "nbformat": 4,
 "nbformat_minor": 5
}
