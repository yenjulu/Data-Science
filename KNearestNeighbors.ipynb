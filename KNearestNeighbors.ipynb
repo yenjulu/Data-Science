{
 "cells": [
  {
   "cell_type": "markdown",
   "id": "c837a928",
   "metadata": {},
   "source": [
    "# K-Nearest Neighbors  \n",
    "### 7007 samples, 7 classes from DermaMNIST dataset"
   ]
  },
  {
   "cell_type": "code",
   "execution_count": null,
   "id": "48eb2851",
   "metadata": {},
   "outputs": [
    {
     "name": "stderr",
     "output_type": "stream",
     "text": [
      "100%|██████████| 19.7M/19.7M [00:02<00:00, 7.01MB/s]\n"
     ]
    },
    {
     "name": "stdout",
     "output_type": "stream",
     "text": [
      "(7007, 28, 28, 3) [0 1 2 3 4 5 6]\n"
     ]
    }
   ],
   "source": [
    "from medmnist import DermaMNIST\n",
    "import numpy as np\n",
    "\n",
    "data = DermaMNIST(split='train', download=True)\n",
    "images, labels = data.imgs, data.labels\n",
    "print(images.shape, np.unique(labels))\n",
    "# images: (7007, 28, 28, 3), labels: ints [0–6]\n"
   ]
  },
  {
   "cell_type": "code",
   "execution_count": 2,
   "id": "8b211af7",
   "metadata": {},
   "outputs": [
    {
     "name": "stdout",
     "output_type": "stream",
     "text": [
      "Accuracy: 0.6897289586305279\n"
     ]
    }
   ],
   "source": [
    "# Flatten images\n",
    "X = images.reshape(len(images), -1)\n",
    "y = labels.flatten()\n",
    "\n",
    "from sklearn.neighbors import KNeighborsClassifier\n",
    "from sklearn.model_selection import train_test_split\n",
    "from sklearn.metrics import accuracy_score\n",
    "\n",
    "X_train, X_test, y_train, y_test = train_test_split(X, y, test_size=0.2, random_state=42)\n",
    "knn = KNeighborsClassifier(n_neighbors=5)\n",
    "knn.fit(X_train, y_train)\n",
    "y_pred = knn.predict(X_test)\n",
    "\n",
    "print(\"Accuracy:\", accuracy_score(y_test, y_pred))\n"
   ]
  }
 ],
 "metadata": {
  "kernelspec": {
   "display_name": "datascienv",
   "language": "python",
   "name": "python3"
  },
  "language_info": {
   "codemirror_mode": {
    "name": "ipython",
    "version": 3
   },
   "file_extension": ".py",
   "mimetype": "text/x-python",
   "name": "python",
   "nbconvert_exporter": "python",
   "pygments_lexer": "ipython3",
   "version": "3.12.11"
  }
 },
 "nbformat": 4,
 "nbformat_minor": 5
}
